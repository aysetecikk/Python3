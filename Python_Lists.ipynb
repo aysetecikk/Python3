{
  "nbformat": 4,
  "nbformat_minor": 0,
  "metadata": {
    "colab": {
      "provenance": []
    },
    "kernelspec": {
      "name": "python3",
      "display_name": "Python 3"
    },
    "language_info": {
      "name": "python"
    }
  },
  "cells": [
    {
      "cell_type": "markdown",
      "source": [
        "1. Aşağıdaki işlemleri indexing ve slicing kullanarak liste üzerinde uygulayın.\n",
        "\n",
        "liste = [\"Python\",True,9,\"3\",8.4,\"Hi-Kod\",\"False\",4.7]\n",
        "\n",
        "\"3\" değerine ulaşmak için indexleme yapın.\n",
        "\n",
        "\"Hi-Kod\" değerine ulaşmak için indexleme yapın.\n",
        "\n",
        "4.7 değerine ulaşmak için indexleme yapın.\n",
        "\n",
        "9,\"3\",8.4,\"Hi-Kod\" değerlerine ulaşmak için slicing yapın.\n",
        "\n",
        "8.4,\"Hi-Kod\",\"False\",4.7 değerlerine ulaşmak için slicing yapın.\n",
        "\n",
        "2. Verilen listede bulunan string veri tipindeki öğeleri yeni_liste isimli listeye eklenir.\n",
        "\n",
        "liste = [\"Python\",True,9,\"3\",8.4,\"Hi-Kod\",\"False\",4.7]\n",
        "\n",
        "3. Enumerate methodunu araştırın ve aşağıdaki örneği enumerate methodu ile yapın.\n",
        "\n",
        "for index in range(len(meyveler)):\n",
        "\n",
        "    print(\"{}. indexte bulunan meyve: {}\".format(index,meyveler[index])"
      ],
      "metadata": {
        "id": "YL2kFULc4S7D"
      }
    },
    {
      "cell_type": "code",
      "source": [
        "\"\"\" 1. Aşağıdaki işlemleri indexing ve slicing kullanarak liste üzerinde uygulayın. \"\"\"\n",
        "\n",
        "# liste = [\"Python\",True,9,\"3\",8.4,\"Hi-Kod\",\"False\",4.7]\n",
        "# \"3\" değerine ulaşmak için indexleme yapın.\n",
        "# \"Hi-Kod\" değerine ulaşmak için indexleme yapın.\n",
        "# 4.7 değerine ulaşmak için indexleme yapın.\n",
        "# 9,\"3\",8.4,\"Hi-Kod\" değerlerine ulaşmak için slicing yapın.\n",
        "# 8.4,\"Hi-Kod\",\"False\",4.7 değerlerine ulaşmak için slicing yapın.\n",
        "\n",
        "# İndeksleme, bir dizideki bir öğeye, dizideki konumunu (indeksini) kullanarak erişme işlemidir.\n",
        "# indexler 0'dan başlar, [] ile yapılır\n",
        "\n",
        "liste = [\"Python\",True,9,\"3\",8.4,\"Hi-Kod\",\"False\",4.7]\n",
        "print(liste[3]) #3. indexi çıktı gösterir, 3 değeri\n",
        "print(liste[5]) #5. indexi gösterir, Hi-Kod değeri\n",
        "print(liste[7]) #7.indexi gösterir, 4.7 değeri"
      ],
      "metadata": {
        "colab": {
          "base_uri": "https://localhost:8080/"
        },
        "id": "QbxWg2zr4V8x",
        "outputId": "1f406fba-0663-4c7d-998e-699e8a070b09"
      },
      "execution_count": null,
      "outputs": [
        {
          "output_type": "stream",
          "name": "stdout",
          "text": [
            "3\n",
            "Hi-Kod\n",
            "4.7\n"
          ]
        }
      ]
    },
    {
      "cell_type": "code",
      "source": [
        "#Slicing işlemi, liste içerisinden belirli bir indexten başlayıp\n",
        "#istenen bir indexe kadar, istenen adım atlanarak alınabilecek değerleri ayırır\n",
        "\n",
        "# 9,\"3\",8.4,\"Hi-Kod\" değerlerine ulaşmak için slicing yapın.\n",
        "\n",
        "# 9 değeri 2. indexte, hi-kod değeri 5. indexte\n",
        "# 2. indexten 6.indexe kadar yazdırılır\n",
        "# 6. index dahil olmaz en son 5. indexi alır\n",
        "# [2:6:1] şeklinde de yazılabilir\n",
        "# [2:6] şeklinde de yazılabilir\n",
        "# her indexte atlanacak olan adım belirtilmezse birer birer atlar\n",
        "\n",
        "print(liste[2:6])\n",
        "\n"
      ],
      "metadata": {
        "colab": {
          "base_uri": "https://localhost:8080/"
        },
        "id": "vzpxYRev6IIh",
        "outputId": "69fd0a74-67dc-42cb-f9ee-0dfe79f63b57"
      },
      "execution_count": null,
      "outputs": [
        {
          "output_type": "stream",
          "name": "stdout",
          "text": [
            "[9, '3', 8.4, 'Hi-Kod']\n"
          ]
        }
      ]
    },
    {
      "cell_type": "code",
      "source": [
        "# 8.4,\"Hi-Kod\",\"False\",4.7 değerlerine ulaşmak için slicing yapın.\n",
        "print(liste[4:8])"
      ],
      "metadata": {
        "colab": {
          "base_uri": "https://localhost:8080/"
        },
        "id": "jGza6nbj76v3",
        "outputId": "a0da32ee-4350-43ec-afed-d4d1a0f3e411"
      },
      "execution_count": null,
      "outputs": [
        {
          "output_type": "stream",
          "name": "stdout",
          "text": [
            "[8.4, 'Hi-Kod', 'False', 4.7]\n"
          ]
        }
      ]
    },
    {
      "cell_type": "code",
      "source": [
        "\"\"\" 2. Verilen listede bulunan string veri tipindeki öğeleri yeni_liste isimli listeye eklenir.\"\"\"\n",
        "\n",
        "yeni_liste = [] # yeni_liste oluşturulur\n",
        "liste = [\"Python\",True,9,\"3\",8.4,\"Hi-Kod\",\"False\",4.7]\n",
        "for i in liste: # liste listesindeki her bir elemanın tipini kontrol eder\n",
        "    if type(i) == str:\n",
        "        yeni_liste.append(i) # tipi string olan elemanları yeni-listeye append komutuyla ekler"
      ],
      "metadata": {
        "id": "1k2AU0pI-vsY"
      },
      "execution_count": null,
      "outputs": []
    },
    {
      "cell_type": "code",
      "source": [
        "\"\"\" 3. Enumerate methodunu araştırın ve aşağıdaki örneği enumerate methodu ile yapın.\"\"\"\n",
        "# nesneleri numaralandırmak için kullanılır.\n",
        "# bir listedeki hem elemanı hem de indeksi getirir.\n",
        "\n",
        "meyveler = [\"elma\",\"armut\",\"muz\"]\n",
        "\n",
        "for index in range(len(meyveler)):\n",
        "# meyveler listesinin index uzunluğu kadar bir döngü yazılmıştır\n",
        "\n",
        "    print(\"{}. indexte bulunan meyve: {}\".format(index,meyveler[index]))\n",
        "# buradaki printte {} parantesinde meyvelerin index numarası yer alır\n",
        "# her indexe denk gelen meyve index numarasıyla birlikte yazılır\n"
      ],
      "metadata": {
        "colab": {
          "base_uri": "https://localhost:8080/"
        },
        "id": "IswaWfJpBZtv",
        "outputId": "251d88ad-8663-48d0-a057-404c8a2fa537"
      },
      "execution_count": null,
      "outputs": [
        {
          "output_type": "stream",
          "name": "stdout",
          "text": [
            "0. indexte bulunan meyve: elma\n",
            "1. indexte bulunan meyve: armut\n",
            "2. indexte bulunan meyve: muz\n"
          ]
        }
      ]
    },
    {
      "cell_type": "code",
      "source": [
        "# bu işlemin enumerate ile uygulanışı şöyledir\n",
        "\n",
        "meyveler = [\"elma\",\"armut\",\"muz\"]\n",
        "print(list(enumerate(meyveler)))\n",
        "# meyveleri indexleriyle beraber listelemek için list komutu kullanılmalıdır"
      ],
      "metadata": {
        "colab": {
          "base_uri": "https://localhost:8080/"
        },
        "id": "_zneI_W_OdtM",
        "outputId": "2b91bdfc-1c00-4233-b9fd-fa16e8816fdf"
      },
      "execution_count": null,
      "outputs": [
        {
          "output_type": "stream",
          "name": "stdout",
          "text": [
            "[(0, 'elma'), (1, 'armut'), (2, 'muz')]\n"
          ]
        }
      ]
    },
    {
      "cell_type": "code",
      "source": [
        "# list komutu yerine döngü ile index ve eleman istenirse\n",
        "\n",
        "for index, meyve in enumerate(meyveler):\n",
        "    print(\"{}. indexte bulunan meyve: {}\".format(index, meyve))"
      ],
      "metadata": {
        "colab": {
          "base_uri": "https://localhost:8080/"
        },
        "id": "XpQTPp84PTqE",
        "outputId": "9edc484a-95c1-4c1b-e13f-75f839f4f197"
      },
      "execution_count": null,
      "outputs": [
        {
          "output_type": "stream",
          "name": "stdout",
          "text": [
            "0. indexte bulunan meyve: elma\n",
            "1. indexte bulunan meyve: armut\n",
            "2. indexte bulunan meyve: muz\n"
          ]
        }
      ]
    }
  ]
}